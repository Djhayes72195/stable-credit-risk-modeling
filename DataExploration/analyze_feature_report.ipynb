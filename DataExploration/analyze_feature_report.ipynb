{
 "cells": [
  {
   "cell_type": "code",
   "execution_count": 15,
   "metadata": {},
   "outputs": [],
   "source": [
    "import pandas as pd\n",
    "import os\n",
    "\n",
    "# Change the working directory to the project root\n",
    "os.chdir('/Users/dustinhayes/Desktop/GitHub/stable-credit-risk-modeling')\n",
    "\n",
    "from pathlib import Path\n",
    "from DataProcessing.pipeline import Pipeline\n",
    "\n",
    "import polars as pl\n",
    "from numpy import sqrt\n",
    "\n",
    "import global_config\n",
    "from global_config import data_store, CORE_COLUMNS, FEATURE_REPORT_PATH\n",
    "\n"
   ]
  },
  {
   "cell_type": "code",
   "execution_count": 21,
   "metadata": {},
   "outputs": [
    {
     "name": "stdout",
     "output_type": "stream",
     "text": [
      "17\n",
      "6\n"
     ]
    }
   ],
   "source": [
    "feature_mapping_path = FEATURE_REPORT_PATH / Path(\"FeatureMapping.csv\")\n",
    "num_report_path = FEATURE_REPORT_PATH / Path(\"NumericalReport.csv\")\n",
    "cat_report_path = FEATURE_REPORT_PATH / Path(\"CategoricalReport.csv\")\n",
    "\n",
    "feature_mapping_df = pd.read_csv(feature_mapping_path)\n",
    "num_report = pd.read_csv(num_report_path)\n",
    "cat_report = pd.read_csv(cat_report_path)\n",
    "\n",
    "base_df = pl.read_parquet(data_store['df_base'])\n",
    "\n",
    "initial_feature_list = feature_mapping_df[\"Feature\"].to_list()\n"
   ]
  },
  {
   "cell_type": "markdown",
   "metadata": {},
   "source": [
    "There are many features in this problem. Let's try and filter down to a lower number based on the following criterion:\n",
    "\n",
    "- Features with a high number of nulls should be removed\n",
    "- Features with unsuitable cardinality should be removed\n",
    "- Features that bad metrics according to feature report eg bad chi2, low information val, low variance"
   ]
  },
  {
   "cell_type": "code",
   "execution_count": 3,
   "metadata": {},
   "outputs": [],
   "source": [
    "def retrieve_feature(feature):\n",
    "    depth = feature_mapping_df.loc[feature_mapping_df[\"Feature\"] == feature, \"Depth\"].iloc[0]\n",
    "    source = feature_mapping_df.loc[feature_mapping_df[\"Feature\"] == feature, \"Source\"].iloc[0]\n",
    "    read_function = Pipeline.read_files if \"*\" in source else Pipeline.read_file\n",
    "    df = read_function(source, col_set=[feature, 'case_id']).pipe(Pipeline.apply_pipeline, base_df=base_df, depth=depth)\n",
    "    if not [x for x in df.columns if x not in global_config.CORE_COLUMNS]:\n",
    "        print(f\"Skipping {feature} due to NA ratio.\") # TODO: Make more robust by checking NA ratio against feature report\n",
    "        return None # Dropped by read_function due to NA ratio\n",
    "    df = df.to_pandas()\n",
    "    return df"
   ]
  },
  {
   "cell_type": "code",
   "execution_count": 12,
   "metadata": {},
   "outputs": [
    {
     "name": "stdout",
     "output_type": "stream",
     "text": [
      "Index(['Unnamed: 0', 'PctNA', 'mean', 'mean_no_default', 'mean_default',\n",
      "       'median', 'median_no_default', 'median_default', 'min', 'max',\n",
      "       'variance', 'variance_no_default', 'variance_default', 'Skewedness',\n",
      "       'Kurtosis'],\n",
      "      dtype='object')\n",
      "Index(['Unnamed: 0', 'NumUnique', 'PctNA', 'IV', 'Significant', 'P-val',\n",
      "       'Chi2'],\n",
      "      dtype='object')\n"
     ]
    }
   ],
   "source": [
    "print(num_report.columns)\n",
    "print(cat_report.columns)"
   ]
  },
  {
   "cell_type": "code",
   "execution_count": 23,
   "metadata": {},
   "outputs": [
    {
     "name": "stdout",
     "output_type": "stream",
     "text": [
      "17\n",
      "6\n",
      "0     2.378173e-01\n",
      "1     2.166494e-01\n",
      "2     2.522292e-01\n",
      "3     2.498141e-01\n",
      "4     2.159801e-01\n",
      "5     2.216460e-01\n",
      "6     2.482547e-01\n",
      "7     1.333047e-01\n",
      "8     1.124712e-01\n",
      "9     2.216460e-01\n",
      "10    1.780736e-01\n",
      "11    2.209667e-01\n",
      "12    4.000853e-02\n",
      "13    4.436361e-02\n",
      "14    1.079109e-01\n",
      "15    9.225718e-02\n",
      "16    1.000000e+08\n",
      "Name: Signal_to_Noise, dtype: float64\n"
     ]
    },
    {
     "name": "stderr",
     "output_type": "stream",
     "text": [
      "/var/folders/9q/87_30rvd5xdg6lb08fyz49t00000gn/T/ipykernel_10287/3425651387.py:14: SettingWithCopyWarning: \n",
      "A value is trying to be set on a copy of a slice from a DataFrame.\n",
      "Try using .loc[row_indexer,col_indexer] = value instead\n",
      "\n",
      "See the caveats in the documentation: https://pandas.pydata.org/pandas-docs/stable/user_guide/indexing.html#returning-a-view-versus-a-copy\n",
      "  sn_df[\"Signal_to_Noise\"] = (\n"
     ]
    }
   ],
   "source": [
    "def remove_due_to_nullness(features, threshold):\n",
    "    cols = ['Unnamed: 0', 'PctNA'] # TODO: Fix Unnamed: 0 - that is the col that holds feature names\n",
    "    na_report = pd.concat([num_report[cols], cat_report[cols]])\n",
    "    to_remove = na_report.loc[na_report['PctNA'] > threshold, 'Unnamed: 0'].to_list()\n",
    "    print(f\"Removing columns: {to_remove}\")\n",
    "    print(f\"Removed {len(to_remove)} features.\")\n",
    "    filtered_features = [x for x in features if x not in to_remove]\n",
    "    return filtered_features\n",
    "\n",
    "def remove_due_to_signal_to_noise(features, threshold):\n",
    "    \"\"\"SN_ratio = abs(mean_1 - mean_2)/sqr(var_1 + var_2)\"\"\"\n",
    "    cols = ['Unnamed: 0', 'mean_default', 'mean_no_default', 'variance_default', 'variance_no_default']\n",
    "    sn_df = num_report[cols]\n",
    "    sn_df[\"Signal_to_Noise\"] = (\n",
    "        abs(sn_df['mean_default'] - sn_df['mean_no_default'])/(\n",
    "            sqrt(sn_df['variance_default'] + sn_df['variance_no_default']) + 10e-9\n",
    "        )\n",
    "    )\n",
    "    print(sn_df[\"Signal_to_Noise\"])\n",
    "\n",
    "print(len(num_report))\n",
    "print(len(cat_report))\n",
    "remove_due_to_signal_to_noise(1,1)"
   ]
  }
 ],
 "metadata": {
  "kernelspec": {
   "display_name": "venv",
   "language": "python",
   "name": "python3"
  },
  "language_info": {
   "codemirror_mode": {
    "name": "ipython",
    "version": 3
   },
   "file_extension": ".py",
   "mimetype": "text/x-python",
   "name": "python",
   "nbconvert_exporter": "python",
   "pygments_lexer": "ipython3",
   "version": "3.10.10"
  },
  "orig_nbformat": 4
 },
 "nbformat": 4,
 "nbformat_minor": 2
}
