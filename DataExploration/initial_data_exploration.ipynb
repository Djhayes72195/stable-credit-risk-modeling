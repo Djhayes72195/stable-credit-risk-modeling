{
 "cells": [
  {
   "cell_type": "code",
   "execution_count": 18,
   "metadata": {},
   "outputs": [],
   "source": [
    "import boto3\n",
    "import pandas as pd\n",
    "from io import BytesIO\n",
    "from config import FeaturePartitionEnum\n",
    "import generate_feature_report\n",
    "from generate_feature_report import FeatureReport\n",
    "from importlib import reload\n",
    "s3 = boto3.client(\"s3\")\n",
    "bucket_name = \"credit-risk-modeling-dj72195\""
   ]
  },
  {
   "cell_type": "code",
   "execution_count": 11,
   "metadata": {},
   "outputs": [],
   "source": [
    "# Load base table\n",
    "object_key = \"train/base/train_base.csv\"\n",
    "base_feature_path = 'train/feature'\n",
    "\n",
    "reponse = s3.get_object(Bucket=bucket_name, Key=object_key)\n",
    "\n",
    "content = reponse['Body'].read()\n",
    "base_df = pd.read_csv(BytesIO(content))\n"
   ]
  },
  {
   "cell_type": "markdown",
   "metadata": {},
   "source": [
    "Here, we will create a table which will aid us in performing perliminary feature selection. For each feature,\n",
    "the following statistics will be calculated:\n",
    "\n",
    "- Mean\n",
    "- Median\n",
    "- Standard Deviation\n",
    "- Weight of Evidence\n",
    "- Information Value\n",
    "- Correlation with Target\n",
    "- Number of missing values\n",
    "- Data type (categorical or numerical)\n",
    "- Number of unique values (categorical)\n",
    "- Min and max values (numberical)\n",
    "- Skewedness\n",
    "- Kurtosis"
   ]
  },
  {
   "cell_type": "code",
   "execution_count": 19,
   "metadata": {},
   "outputs": [
    {
     "name": "stdout",
     "output_type": "stream",
     "text": [
      "Am I getting here\n",
      "How about here, if Contents in response\n"
     ]
    },
    {
     "name": "stderr",
     "output_type": "stream",
     "text": [
      "/Users/dustinhayes/Desktop/GitHub/stable-credit-risk-modeling/DataExploration/generate_feature_report.py:59: DtypeWarning: Columns (27) have mixed types. Specify dtype option on import or set low_memory=False.\n",
      "  df = pd.read_csv(BytesIO(file_obj['Body'].read()))\n"
     ]
    },
    {
     "name": "stdout",
     "output_type": "stream",
     "text": [
      "   case_id  actualdpd_943P  annuity_853A approvaldate_319D  \\\n",
      "0        2             0.0         640.2               NaN   \n",
      "1        2             0.0        1682.4               NaN   \n",
      "2        3             0.0        6140.0               NaN   \n",
      "3        4             0.0        2556.6               NaN   \n",
      "4        5             0.0           NaN               NaN   \n",
      "\n",
      "   byoccupationinc_3656910L cancelreason_3545846M  childnum_21L  \\\n",
      "0                       NaN              a55475b1           0.0   \n",
      "1                       NaN              a55475b1           0.0   \n",
      "2                       NaN           P94_109_143           NaN   \n",
      "3                       NaN             P24_27_36           NaN   \n",
      "4                       NaN           P85_114_140           NaN   \n",
      "\n",
      "  creationdate_885D  credacc_actualbalance_314A  credacc_credlmt_575A  ...  \\\n",
      "0        2013-04-03                         NaN                   0.0  ...   \n",
      "1        2013-04-03                         NaN                   0.0  ...   \n",
      "2        2019-01-07                         NaN                   0.0  ...   \n",
      "3        2019-01-08                         NaN                   0.0  ...   \n",
      "4        2019-01-16                         NaN                   NaN  ...   \n",
      "\n",
      "   num_group1  outstandingdebt_522A pmtnum_8L  postype_4733339M  \\\n",
      "0           0                   NaN      24.0          a55475b1   \n",
      "1           1                   NaN      12.0          a55475b1   \n",
      "2           0                   NaN      12.0          a55475b1   \n",
      "3           0                   NaN      24.0          a55475b1   \n",
      "4           0                   NaN       NaN          a55475b1   \n",
      "\n",
      "   profession_152M rejectreason_755M  rejectreasonclient_4145042M  \\\n",
      "0         a55475b1          a55475b1                     a55475b1   \n",
      "1         a55475b1          a55475b1                     a55475b1   \n",
      "2         a55475b1       P94_109_143                     a55475b1   \n",
      "3         a55475b1          a55475b1                     a55475b1   \n",
      "4         a55475b1          a55475b1                     a55475b1   \n",
      "\n",
      "  revolvingaccount_394A status_219L  tenor_203L  \n",
      "0                   NaN           D        24.0  \n",
      "1                   NaN           D        12.0  \n",
      "2                   NaN           D        12.0  \n",
      "3                   NaN           T        24.0  \n",
      "4                   NaN           T         NaN  \n",
      "\n",
      "[5 rows x 41 columns]\n"
     ]
    },
    {
     "name": "stderr",
     "output_type": "stream",
     "text": [
      "/Users/dustinhayes/Desktop/GitHub/stable-credit-risk-modeling/DataExploration/generate_feature_report.py:59: DtypeWarning: Columns (27) have mixed types. Specify dtype option on import or set low_memory=False.\n",
      "  df = pd.read_csv(BytesIO(file_obj['Body'].read()))\n"
     ]
    },
    {
     "name": "stdout",
     "output_type": "stream",
     "text": [
      "   case_id  actualdpd_943P  annuity_853A approvaldate_319D  \\\n",
      "0    40704             0.0     7204.6000               NaN   \n",
      "1    40734             0.0     3870.2000               NaN   \n",
      "2    40737             0.0     2324.4001               NaN   \n",
      "3    40791             0.0     2320.8000               NaN   \n",
      "4    40791             0.0     2541.2000               NaN   \n",
      "\n",
      "   byoccupationinc_3656910L cancelreason_3545846M  childnum_21L  \\\n",
      "0                       NaN           P94_109_143           NaN   \n",
      "1                       NaN           P94_109_143           NaN   \n",
      "2                       1.0              a55475b1           0.0   \n",
      "3                       1.0              a55475b1           0.0   \n",
      "4                       1.0              a55475b1           0.0   \n",
      "\n",
      "  creationdate_885D  credacc_actualbalance_314A  credacc_credlmt_575A  ...  \\\n",
      "0        2018-11-20                         NaN                   0.0  ...   \n",
      "1        2019-12-26                         NaN                   0.0  ...   \n",
      "2        2014-07-17                         NaN                   0.0  ...   \n",
      "3        2014-12-28                         NaN                   0.0  ...   \n",
      "4        2014-12-28                         NaN                   0.0  ...   \n",
      "\n",
      "   num_group1  outstandingdebt_522A pmtnum_8L  postype_4733339M  \\\n",
      "0           0                   NaN      12.0        P46_145_78   \n",
      "1           0                   NaN      18.0       P149_40_170   \n",
      "2           0                   0.0      18.0        P46_145_78   \n",
      "3           1                   0.0      12.0       P60_146_156   \n",
      "4           2                   0.0      24.0      P177_117_192   \n",
      "\n",
      "   profession_152M rejectreason_755M  rejectreasonclient_4145042M  \\\n",
      "0         a55475b1        P198_131_9                  P94_109_143   \n",
      "1         a55475b1        P45_84_106                  P94_109_143   \n",
      "2         a55475b1          a55475b1                     a55475b1   \n",
      "3         a55475b1          a55475b1                     a55475b1   \n",
      "4         a55475b1          a55475b1                     a55475b1   \n",
      "\n",
      "  revolvingaccount_394A status_219L  tenor_203L  \n",
      "0                   NaN           D        12.0  \n",
      "1                   NaN           D        18.0  \n",
      "2                   NaN           D        18.0  \n",
      "3                   NaN           D        12.0  \n",
      "4                   NaN           D        24.0  \n",
      "\n",
      "[5 rows x 41 columns]\n",
      "   case_id cacccardblochreas_147M   conts_type_509L credacc_cards_status_52L  \\\n",
      "0        2                    NaN    PRIMARY_MOBILE                      NaN   \n",
      "1        2                    NaN  EMPLOYMENT_PHONE                      NaN   \n",
      "2        2                    NaN    PRIMARY_MOBILE                      NaN   \n",
      "3        2                    NaN  EMPLOYMENT_PHONE                      NaN   \n",
      "4        3                    NaN             PHONE                      NaN   \n",
      "\n",
      "   num_group1  num_group2  \n",
      "0           0           0  \n",
      "1           0           1  \n",
      "2           1           0  \n",
      "3           1           1  \n",
      "4           0           0  \n"
     ]
    }
   ],
   "source": [
    "from importlib import reload\n",
    "reload(generate_feature_report)\n",
    "from generate_feature_report import FeatureReport\n",
    "for feature_class in FeaturePartitionEnum:\n",
    "    if feature_class.value == 'applprev':\n",
    "        feature_class_partition = base_feature_path + '/' + feature_class.value\n",
    "        report = FeatureReport(base_df, feature_class_partition, s3)\n",
    "        report.combine_tables()"
   ]
  },
  {
   "cell_type": "code",
   "execution_count": null,
   "metadata": {},
   "outputs": [],
   "source": []
  },
  {
   "cell_type": "code",
   "execution_count": null,
   "metadata": {},
   "outputs": [],
   "source": []
  }
 ],
 "metadata": {
  "kernelspec": {
   "display_name": "venv",
   "language": "python",
   "name": "python3"
  },
  "language_info": {
   "codemirror_mode": {
    "name": "ipython",
    "version": 3
   },
   "file_extension": ".py",
   "mimetype": "text/x-python",
   "name": "python",
   "nbconvert_exporter": "python",
   "pygments_lexer": "ipython3",
   "version": "3.11.5"
  },
  "orig_nbformat": 4
 },
 "nbformat": 4,
 "nbformat_minor": 2
}
