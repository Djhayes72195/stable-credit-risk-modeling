{
 "cells": [
  {
   "cell_type": "code",
   "execution_count": null,
   "metadata": {},
   "outputs": [],
   "source": [
    "import os\n",
    "os.chdir(\"/Users/dustinhayes/Desktop/GitHub/stable-credit-risk-modeling/\")\n",
    "import polars as pl\n",
    "import pandas as pd\n",
    "import numpy as np\n",
    "from importlib import reload\n",
    "from pathlib import Path\n",
    "from pprint import pprint\n",
    "import matplotlib.pyplot as plt\n",
    "from ..DataProcessing.pipeline import Pipeline\n",
    "\n",
    "\n",
    "ROOT = Path('/Users/dustinhayes/Desktop/GitHub/stable-credit-risk-modeling/Data')\n",
    "TRAIN_DIR = ROOT / \"original_parquet_files\" / \"train\"\n",
    "TEST_DIR = ROOT / \"original_parquet_files\" / \"test\"\n",
    "FEATURE_DEFINITIONS = ROOT / \"feature_definitions.csv\""
   ]
  },
  {
   "cell_type": "code",
   "execution_count": 92,
   "metadata": {},
   "outputs": [
    {
     "name": "stdout",
     "output_type": "stream",
     "text": [
      "Current Working Directory:  /Users/dustinhayes/Desktop/GitHub/stable-credit-risk-modeling/DataExploration\n"
     ]
    }
   ],
   "source": [
    "import os\n",
    "print(\"Current Working Directory: \", os.getcwd())"
   ]
  },
  {
   "cell_type": "markdown",
   "metadata": {},
   "source": [
    "We have access to a csv which contains definitions for each feature. It would be nice to be able to print out a df and anutomatically retreive information on each column. I'll write a quick function to do that."
   ]
  },
  {
   "cell_type": "code",
   "execution_count": 47,
   "metadata": {},
   "outputs": [],
   "source": [
    "feature_def_df = pd.read_csv(FEATURE_DEFINITIONS)\n",
    "SEPERATOR = \"===============================================================================\"\n",
    "\n",
    "def print_df_and_define_columns(df):\n",
    "    cols = df.columns\n",
    "    col_defs = feature_def_df[feature_def_df['Variable'].isin(cols)]\n",
    "    print(SEPERATOR)\n",
    "    for index, row in col_defs.iterrows():\n",
    "        variable = row.Variable\n",
    "        description = row.Description\n",
    "        print(f\"{variable}: {description}\")\n",
    "        print(SEPERATOR)\n",
    "    print(df)\n"
   ]
  },
  {
   "cell_type": "markdown",
   "metadata": {},
   "source": [
    "We should take some time to explore some depth 1 and depth 2 tables to speculate on appropriate methods of aggregation.\n",
    "\n",
    "Let's take example depth 1 table \"train_tax_registry_a_1.parquet\""
   ]
  },
  {
   "cell_type": "code",
   "execution_count": 44,
   "metadata": {},
   "outputs": [
    {
     "name": "stdout",
     "output_type": "stream",
     "text": [
      "===============================================================================\n",
      "amount_4527230A: Tax deductions amount tracked by the government registry.\n",
      "===============================================================================\n",
      "name_4527232M: Name of employer.\n",
      "===============================================================================\n",
      "recorddate_4527225D: Date of tax deduction record.\n",
      "===============================================================================\n",
      "shape: (3_275_770, 5)\n",
      "┌─────────┬─────────────────┬───────────────┬────────────┬─────────────────────┐\n",
      "│ case_id ┆ amount_4527230A ┆ name_4527232M ┆ num_group1 ┆ recorddate_4527225D │\n",
      "│ ---     ┆ ---             ┆ ---           ┆ ---        ┆ ---                 │\n",
      "│ i64     ┆ f64             ┆ str           ┆ i64        ┆ str                 │\n",
      "╞═════════╪═════════════════╪═══════════════╪════════════╪═════════════════════╡\n",
      "│ 28631   ┆ 711.0           ┆ f980a1ea      ┆ 3          ┆ 2019-09-13          │\n",
      "│ 28631   ┆ 1946.0          ┆ f980a1ea      ┆ 2          ┆ 2019-09-13          │\n",
      "│ 28631   ┆ 2600.0          ┆ f980a1ea      ┆ 1          ┆ 2019-09-13          │\n",
      "│ 28631   ┆ 3616.4001       ┆ f980a1ea      ┆ 0          ┆ 2019-09-13          │\n",
      "│ 28632   ┆ 400.0           ┆ 5f9b74f5      ┆ 6          ┆ 2019-09-13          │\n",
      "│ …       ┆ …               ┆ …             ┆ …          ┆ …                   │\n",
      "│ 2701515 ┆ 2992.0          ┆ 48e44a99      ┆ 0          ┆ 2020-10-09          │\n",
      "│ 2701515 ┆ 4691.8003       ┆ 5e180ef0      ┆ 1          ┆ 2020-10-09          │\n",
      "│ 2702290 ┆ 850.0           ┆ 94721311      ┆ 0          ┆ 2020-10-13          │\n",
      "│ 2702290 ┆ 850.0           ┆ 94721311      ┆ 1          ┆ 2020-10-13          │\n",
      "│ 2702290 ┆ 850.0           ┆ 94721311      ┆ 2          ┆ 2020-10-13          │\n",
      "└─────────┴─────────────────┴───────────────┴────────────┴─────────────────────┘\n"
     ]
    }
   ],
   "source": [
    "tax_registry_a_1_path = TRAIN_DIR / \"train_tax_registry_a_1.parquet\"\n",
    "tax_reg_a1_df = pl.read_parquet(tax_registry_a_1_path)\n",
    "print_df_and_define_columns(tax_reg_a1_df)\n"
   ]
  },
  {
   "cell_type": "markdown",
   "metadata": {},
   "source": [
    "It seems that in train_tax_registry_a_1.parquet we have 5 columns: case_id, amount_4527230A, name_4527232M, num_group1, recorddate_4527225D, with descriptions: \n",
    "\n",
    "===============================================================================\n",
    "amount_4527230A: Tax deductions amount tracked by the government registry.\n",
    "===============================================================================\n",
    "name_4527232M: Name of employer.\n",
    "===============================================================================\n",
    "recorddate_4527225D: Date of tax deduction record.\n",
    "===============================================================================\n",
    "\n",
    "The precise meaning of num_group1, and num_group2 were not immediately clear to me. A post by the competition host helped:\n",
    "\n",
    "Hi,\n",
    "okay, let me explain on hypothetical example:\n",
    "\n",
    "Tomas Jelinek applied for loan on 1.1.2024 - this is credit case, which has assigned unique case_id\n",
    "Tomas Jelinek is existing client in Home Credit, it means he had applications/loans with Home Credit before 1.1.2024, let's say 5 loans. Data describing parameters of those loans, their repayment history etc. are definitely valuable for credit scoring, therefore you have them in the sample. But they are not aggregated on level of case_id, there are 5 rows describing those 5 previous loans. To differentiate between those 5, you have to have some index - num_group_1, which will contain values 0,1,2,3,4…\n",
    "num_group_1 is not used only for previous applications, but for other data where we have several records per case_id, like contact references, records in credit registry, etc. What I want to say is there is different meaning for different tables & attributes\n",
    "is some cases we might have even bigger detail, for example information about instalments for each previous application. Then you need num_group_2, for example let's say previous loan with num_group_1=0 have 3 instalments, then you will have 3 records with num_group_1 = 0 and num_group_2 = 0,1,2\n",
    "\n",
    "\n"
   ]
  },
  {
   "cell_type": "markdown",
   "metadata": {},
   "source": [
    "Let's look at a depth 2 table as well. I have chosen credit_bureau_b_2_path."
   ]
  },
  {
   "cell_type": "code",
   "execution_count": 58,
   "metadata": {},
   "outputs": [
    {
     "name": "stdout",
     "output_type": "stream",
     "text": [
      "===============================================================================\n",
      "pmts_date_1107D: Payment date for an active contract according to credit bureau (num_group1 - contract, num_group2 - payment).\n",
      "===============================================================================\n",
      "pmts_dpdvalue_108P: Value of past due payment for active contract (num_group1 - existing contract, num_group2 - payment).\n",
      "===============================================================================\n",
      "pmts_pmtsoverdue_635A: Active contract that has overdue payments (num_group1 - existing contract, num_group2 - payment).\n",
      "===============================================================================\n",
      "shape: (144_343, 6)\n",
      "┌────────────┬────────────┬────────────┬─────────────────┬────────────────────┬────────────────────┐\n",
      "│ case_id    ┆ num_group1 ┆ num_group2 ┆ pmts_date_1107D ┆ pmts_dpdvalue_108P ┆ pmts_pmtsoverdue_6 │\n",
      "│ ---        ┆ ---        ┆ ---        ┆ ---             ┆ ---                ┆ 35A                │\n",
      "│ f64        ┆ f64        ┆ f64        ┆ str             ┆ f64                ┆ ---                │\n",
      "│            ┆            ┆            ┆                 ┆                    ┆ f64                │\n",
      "╞════════════╪════════════╪════════════╪═════════════════╪════════════════════╪════════════════════╡\n",
      "│ 1445.0     ┆ 0.0        ┆ 2.0        ┆ 2016-03-15      ┆ 9517.0             ┆ 0.4                │\n",
      "│ 1445.0     ┆ 0.0        ┆ 23.0       ┆ 2017-12-15      ┆ 200418.0           ┆ 0.4                │\n",
      "│ 1445.0     ┆ 0.0        ┆ 24.0       ┆ 2018-01-15      ┆ 10262.0            ┆ 1.4                │\n",
      "│ 1445.0     ┆ 0.0        ┆ 26.0       ┆ 2018-03-15      ┆ 10531.0            ┆ 0.2                │\n",
      "│ 1445.0     ┆ 4.0        ┆ 1.0        ┆ 2016-02-15      ┆ 21968.0            ┆ 1.6                │\n",
      "│ …          ┆ …          ┆ …          ┆ …               ┆ …                  ┆ …                  │\n",
      "│ 2.703436e6 ┆ 0.0        ┆ 3.0        ┆ 2018-07-15      ┆ 128426.0           ┆ 0.4                │\n",
      "│ 2.703436e6 ┆ 0.0        ┆ 5.0        ┆ 2018-09-15      ┆ 50999.0            ┆ 5.2000003          │\n",
      "│ 2.703436e6 ┆ 1.0        ┆ 11.0       ┆ 2018-09-15      ┆ 27594.0            ┆ 3.0                │\n",
      "│ 2.703436e6 ┆ 1.0        ┆ 12.0       ┆ 2018-10-15      ┆ 27594.0            ┆ 5.8                │\n",
      "│ 2.703436e6 ┆ 1.0        ┆ 14.0       ┆ 2018-12-15      ┆ 53903.0            ┆ 0.2                │\n",
      "└────────────┴────────────┴────────────┴─────────────────┴────────────────────┴────────────────────┘\n",
      "Range of the pmts_pmtsoverdue_635A: 147470.61\n"
     ]
    }
   ],
   "source": [
    "credit_bureau_b_2_path = TRAIN_DIR / \"train_credit_bureau_b_2.parquet\"\n",
    "\n",
    "credit_bureau_b_2_df = pl.read_parquet(credit_bureau_b_2_path).fill_null(0.0)\n",
    "filter_case_id = credit_bureau_b_2_df.filter((pl.col('pmts_dpdvalue_108P') > 0) & (pl.col(\"pmts_pmtsoverdue_635A\") > 0)) # Filter to one id for readability\n",
    "print_df_and_define_columns(filter_case_id)\n",
    "max_value = credit_bureau_b_2_df.select(pl.max('pmts_pmtsoverdue_635A')).to_numpy()[0, 0]\n",
    "min_value = credit_bureau_b_2_df.select(pl.min('pmts_pmtsoverdue_635A')).to_numpy()[0, 0]\n",
    "column_range = max_value - min_value\n",
    "\n",
    "print(\"Range of the pmts_pmtsoverdue_635A:\", column_range)"
   ]
  },
  {
   "cell_type": "markdown",
   "metadata": {},
   "source": [
    "There are five columns: case_id, num_group1, num_group2, pmts_date_1107D, pmts_dpdvalue_108P, and pmts_pmtsoverdue_635A.\n",
    "\n",
    "This is a depth two table. The first layer of depth is existing contract. A single case_id may have multiple contracts in repayment. These multiple contracts are enumerated with num_group1. Within a single contract, multiple payments are recorded. pmts_date_1107D, pmts_dpdvalue_108P, and pmts_pmtsoverdue_635A representing payment date, value of past due contract, and active contract that has overdue payments are recorded at the payment level, enumerated with num_group2.\n",
    "\n",
    "I am still a little confused as to the precise meaning of pmts_dpdvalue_108P, and pmts_pmtsoverdue_635A.\n",
    "\n",
    "===============================================================================\n",
    "pmts_dpdvalue_108P: Value of past due payment for active contract (num_group1 - existing contract, num_group2 - payment).\n",
    "===============================================================================\n",
    "\n",
    "Is this the amount of money that was paid past due, or is it the amount past due that remains after the payment?\n",
    "\n",
    "P - Transform DPD (Days past due) - Float\n",
    "\n",
    "But it says \"Value\", not # of days past due or anything of the sort.\n",
    "\n",
    "Notably\n",
    "\n",
    "\n",
    "===============================================================================\n",
    "pmts_pmtsoverdue_635A: Active contract that has overdue payments (num_group1 - existing contract, num_group2 - payment).\n",
    "===============================================================================\n",
    "\n",
    "These are numerical values that do not seem to specify which contract is overdue. Is this how much is left past due after the payment?\n",
    "\n",
    "I'll investigate a bit further..."
   ]
  },
  {
   "cell_type": "code",
   "execution_count": 69,
   "metadata": {},
   "outputs": [
    {
     "name": "stdout",
     "output_type": "stream",
     "text": [
      "105.17865482168129\n"
     ]
    },
    {
     "data": {
      "image/png": "[encoded data removed]",
      "text/plain": [
       "<Figure size 640x480 with 1 Axes>"
      ]
     },
     "metadata": {},
     "output_type": "display_data"
    },
    {
     "data": {
      "image/png": "[encoded data removed]",
      "text/plain": [
       "<Figure size 640x480 with 1 Axes>"
      ]
     },
     "metadata": {},
     "output_type": "display_data"
    },
    {
     "name": "stdout",
     "output_type": "stream",
     "text": [
      "[2.00000000e-01 9.83156067e+03 1.96629213e+04 2.94942820e+04\n",
      " 3.93256427e+04 4.91570033e+04 5.89883640e+04 6.88197247e+04\n",
      " 7.86510853e+04 8.84824460e+04 9.83138067e+04 1.08145167e+05\n",
      " 1.17976528e+05 1.27807889e+05 1.37639249e+05 1.47470610e+05]\n",
      "Hist counts for pmts_pmtsoverdue_635A, in bins of around 10,000 [144472      0      0      0      0      0      0      0      0      0\n",
      "      0      0      0      0     12]\n"
     ]
    }
   ],
   "source": [
    "credit_bureau_b_2_path = TRAIN_DIR / \"train_credit_bureau_b_2.parquet\"\n",
    "\n",
    "credit_bureau_b_2_df = pl.read_parquet(credit_bureau_b_2_path).fill_null(0.0)\n",
    "pmts_dpdvalue_108P = credit_bureau_b_2_df.get_column('pmts_dpdvalue_108P').to_numpy()\n",
    "pmts_dpdvalue_108P = pmts_dpdvalue_108P[pmts_dpdvalue_108P != 0.0] # I'm interested in observing overdue payments\n",
    "pmts_pmtsoverdue_635A = credit_bureau_b_2_df.get_column('pmts_pmtsoverdue_635A').to_numpy()\n",
    "pmts_pmtsoverdue_635A = pmts_pmtsoverdue_635A[pmts_pmtsoverdue_635A != 0.0]\n",
    "\n",
    "num_bins = 15\n",
    "\n",
    "hist_pmts_dpdvalue_108P, bin_edges_pmts_dpdvalue_108P = np.histogram(pmts_dpdvalue_108P, bins=num_bins)\n",
    "hist_pmts_pmtsoverdue_635A, bin_edges_pmts_pmtsoverdue_635A = np.histogram(pmts_pmtsoverdue_635A, bins=num_bins)\n",
    "\n",
    "def plot_hist(hist_counts, bin_edges, feature):\n",
    "    plt.bar(bin_edges[:-1], hist_counts, width=np.diff(bin_edges), log=True, edgecolor='black', align='edge')\n",
    "    plt.title(f\"{feature}\")\n",
    "    plt.xlabel('Value')\n",
    "    plt.ylabel('log(Frequency)') # Plot log to see extreme values easier.\n",
    "    plt.show()\n",
    "\n",
    "plot_hist(hist_pmts_dpdvalue_108P, bin_edges_pmts_dpdvalue_108P, \"pmts_dpdvalue_108P\")\n",
    "plot_hist(hist_pmts_pmtsoverdue_635A, bin_edges_pmts_pmtsoverdue_635A, \"pmts_pmtsoverdue_635A\")\n",
    "\n",
    "print(bin_edges_pmts_pmtsoverdue_635A)\n",
    "print(f\"Hist counts for pmts_pmtsoverdue_635A, in bins of around 10,000 {hist_pmts_pmtsoverdue_635A}\")\n"
   ]
  },
  {
   "cell_type": "markdown",
   "metadata": {},
   "source": [
    "We found some interesting hist counts for pmts_pmtsoverdue_635A. With bins of around 10,000, after filtering out zeros:\n",
    "\n",
    "[144472      0      0      0      0      0      0      0      0      0\n",
    "0      0      0      0     12]\n",
    "\n",
    "So almost everything is less than 10,000, but we have exactly 12 counts sitting around 140,000. What could this mean? \n"
   ]
  },
  {
   "cell_type": "code",
   "execution_count": 72,
   "metadata": {},
   "outputs": [
    {
     "name": "stdout",
     "output_type": "stream",
     "text": [
      "Mean of pmts_pmtsoverdue_635A w/o the 12 outliers: 92.93936363624645\n"
     ]
    },
    {
     "data": {
      "image/png": "[encoded data removed]",
      "text/plain": [
       "<Figure size 640x480 with 1 Axes>"
      ]
     },
     "metadata": {},
     "output_type": "display_data"
    }
   ],
   "source": [
    "# Let's see what the data looks like without these 12 very large values.\n",
    "non_outlier_pmts_pmtsoverdue_635A = np.sort(pmts_pmtsoverdue_635A)[:-12]\n",
    "print(f\"Mean of pmts_pmtsoverdue_635A w/o the 12 outliers: {np.mean(non_outlier_pmts_pmtsoverdue_635A)}\")\n",
    "\n",
    "\n",
    "hist_non_outlier_pmts_pmtsoverdue_635A, bin_edges_non_outlier_pmts_pmtsoverdue_635A = np.histogram(non_outlier_pmts_pmtsoverdue_635A, bins=num_bins)\n",
    "plot_hist(hist_non_outlier_pmts_pmtsoverdue_635A, bin_edges_non_outlier_pmts_pmtsoverdue_635A, \"non_outlier_pmts_pmtsoverdue_635A\")"
   ]
  },
  {
   "cell_type": "markdown",
   "metadata": {},
   "source": [
    "Without the outliers we see a right-skewed distribution with a max value of around 1000. Although we still have not explained the outliers, I doubt that the units we are dealing with is USD.\n",
    "\n",
    "Notes on col dtype coding:\n",
    "\n",
    "        P - Transform DPD (Days past due) - Float\n",
    "        M - Masking categories - String\n",
    "        A - Transform amount - Float\n",
    "        D - Transform date - Date\n",
    "        T - Unspecified Transform - Not handled\n",
    "        L - Unspecified Transform - Not handled\n",
    "\n",
    "So far I have observed:\n",
    "         - mts_dpdvalue_108P:\n",
    "                - Always a whole number.\n",
    "                - Suffix \"P\" is supposed to mean it is days past due transformed, but that does not seems to align with its description: \"Value of past due payment for active contract (num_group1 - existing contract, num_group2 - payment)\"\n",
    "        - pmts_pmtsoverdue_635A:\n",
    "                - Is usually less than 1000, but there are 12 records with values around 140,000 with nothing in between.\n",
    "                - Is not always a whole number, but it a multiple of .2 for some reason\n",
    "        - One of these columns may be zero when the other is not."
   ]
  },
  {
   "cell_type": "code",
   "execution_count": 83,
   "metadata": {},
   "outputs": [
    {
     "name": "stdout",
     "output_type": "stream",
     "text": [
      "shape: (83, 6)\n",
      "┌─────────┬────────────┬────────────┬─────────────────┬────────────────────┬───────────────────────┐\n",
      "│ case_id ┆ num_group1 ┆ num_group2 ┆ pmts_date_1107D ┆ pmts_dpdvalue_108P ┆ pmts_pmtsoverdue_635A │\n",
      "│ ---     ┆ ---        ┆ ---        ┆ ---             ┆ ---                ┆ ---                   │\n",
      "│ f64     ┆ f64        ┆ f64        ┆ str             ┆ f64                ┆ f64                   │\n",
      "╞═════════╪════════════╪════════════╪═════════════════╪════════════════════╪═══════════════════════╡\n",
      "│ 1445.0  ┆ 0.0        ┆ 0.0        ┆ 2016-01-15      ┆ 0.0                ┆ 0.0                   │\n",
      "│ 1445.0  ┆ 0.0        ┆ 1.0        ┆ 2016-02-15      ┆ 0.0                ┆ 0.0                   │\n",
      "│ 1445.0  ┆ 0.0        ┆ 2.0        ┆ 2016-03-15      ┆ 9517.0             ┆ 0.4                   │\n",
      "│ 1445.0  ┆ 0.0        ┆ 3.0        ┆ 2016-04-15      ┆ 0.0                ┆ 0.0                   │\n",
      "│ 1445.0  ┆ 0.0        ┆ 4.0        ┆ 2016-05-15      ┆ 0.0                ┆ 0.0                   │\n",
      "│ …       ┆ …          ┆ …          ┆ …               ┆ …                  ┆ …                     │\n",
      "│ 1445.0  ┆ 4.0        ┆ 31.0       ┆ 2018-08-15      ┆ 18054.0            ┆ 2.6000001             │\n",
      "│ 1445.0  ┆ 4.0        ┆ 32.0       ┆ 2018-09-15      ┆ 18074.0            ┆ 4.0                   │\n",
      "│ 1445.0  ┆ 4.0        ┆ 33.0       ┆ 2018-10-15      ┆ 17023.0            ┆ 3.0                   │\n",
      "│ 1445.0  ┆ 4.0        ┆ 34.0       ┆ 2018-11-15      ┆ 0.0                ┆ 0.0                   │\n",
      "│ 1445.0  ┆ 4.0        ┆ 35.0       ┆ 2018-12-15      ┆ 0.0                ┆ 0.0                   │\n",
      "└─────────┴────────────┴────────────┴─────────────────┴────────────────────┴───────────────────────┘\n"
     ]
    }
   ],
   "source": [
    "high_pmtsoverdue = credit_bureau_b_2_df.filter(pl.col(\"pmts_pmtsoverdue_635A\") > 10000)\n",
    "non_zero_pmtsoverdue = credit_bureau_b_2_df.filter(pl.col(\"pmts_pmtsoverdue_635A\") > 0.0)\n",
    "specific_case_id = credit_bureau_b_2_df.filter(pl.col(\"case_id\") == 1445)\n",
    "print(specific_case_id)\n",
    "\n",
    "# Is one always zero when the other is zero?\n",
    "# check_if_empty = credit_bureau_b_2_df.filter((pl.col(\"pmts_pmtsoverdue_635A\") == 0) & (pl.col(\"pmts_dpdvalue_108P\") != 0))\n",
    "# print(check_if_empty)"
   ]
  },
  {
   "cell_type": "markdown",
   "metadata": {},
   "source": [
    "It seems that I have chosen to investigate a table which has confused other kagglers as well. I found a thread which discusses exactly this, but offers no definitive conclusion: https://www.kaggle.com/competitions/home-credit-credit-risk-model-stability/discussion/478631\n",
    "\n",
    "I found another thread, https://www.kaggle.com/competitions/home-credit-credit-risk-model-stability/discussion/485634, where user aahhammer offers this explaination:\n",
    "\n",
    "\n",
    "- the num_group1 in credit_bureau_b_2 referes to the num_group1 in credit_bureau_b_1.\n",
    "- Its all client credits. In your case 1702371 the client has only two documented credits\n",
    "Look at e.g. case 1445 to see a different scenario with 0-4 in num_group1\n",
    "- the DPD value of 9186 is rather the monetary value which was paid late\n",
    "the 0.2 [in pmts_pmtsoverdue_635A] are rather the percentage of the total credit value. the total credit value is documented in credit_bureau_b_1 column amount_1115A with 43998.0. 9186 is about 20% of that value. I rather trust the data then the documentation here.\n",
    "\n",
    "I'm not quite convinced, though. If pmts_pmtsoverdue_635A represent percentage of total credit value, anything above 1.0 would not make sense. We regularly see values over 1.0, and the max of this column is 140,000. \n",
    "\n",
    "Let's bring in credit_bureau_b_1, which contains total credit value, and see if the aahhammer's hypothesis regarding pmts_pmtsoverdue_635A is justified.\n"
   ]
  },
  {
   "cell_type": "code",
   "execution_count": 85,
   "metadata": {},
   "outputs": [
    {
     "name": "stdout",
     "output_type": "stream",
     "text": [
      "===============================================================================\n",
      "amount_1115A: Credit amount of the active contract provided by the credit bureau.\n",
      "===============================================================================\n",
      "classificationofcontr_1114M: Classificiation of the active contract.\n",
      "===============================================================================\n",
      "contractdate_551D: Contract date of the active contract\n",
      "===============================================================================\n",
      "contractmaturitydate_151D: End date of active contract.\n",
      "===============================================================================\n",
      "contractst_516M: Contract status.\n",
      "===============================================================================\n",
      "contracttype_653M: Contract Type\n",
      "===============================================================================\n",
      "credlmt_1052A: Credit limit of an active loan.\n",
      "===============================================================================\n",
      "credlmt_228A: Credit limit for closed loans.\n",
      "===============================================================================\n",
      "credlmt_3940954A: Credit limit for active loan.\n",
      "===============================================================================\n",
      "credor_3940957M: Creditor's name\n",
      "===============================================================================\n",
      "credquantity_1099L: Number of credits in credit bureau\n",
      "===============================================================================\n",
      "credquantity_984L: Number of closed credits in credit bureau.\n",
      "===============================================================================\n",
      "debtpastduevalue_732A: Amount of unpaid debt for existing contracts.\n",
      "===============================================================================\n",
      "debtvalue_227A: Outstanding amount for existing debt contracts.\n",
      "===============================================================================\n",
      "dpd_550P: The number of days past due for active loans where a guarantee has been provided.\n",
      "===============================================================================\n",
      "dpd_733P: Days past due (DPD) for guaranteed loans that were terminated according to credit bureau data.\n",
      "===============================================================================\n",
      "dpdmax_851P: Maximal past due days for active contracts in the credit bureau.\n",
      "===============================================================================\n",
      "dpdmaxdatemonth_804T: Month when the maximum Day Past Due (DPD) occurred for active contracts on credit bureau's records.\n",
      "===============================================================================\n",
      "dpdmaxdateyear_742T: Year of the maximum Days Past Due (DPD) on an active credit contract in the credit bureau.\n",
      "===============================================================================\n",
      "installmentamount_644A: Instalment amount of a closed and secured credit contract.\n",
      "===============================================================================\n",
      "installmentamount_833A: Instalment amount for a secured and active contract in credit bureau.\n",
      "===============================================================================\n",
      "instlamount_892A: Instalment amount for active credit contract.\n",
      "===============================================================================\n",
      "interesteffectiverate_369L: Interest rate on active contract.\n",
      "===============================================================================\n",
      "interestrateyearly_538L: Annual interest rate for existing contract obtained from credit bureau.\n",
      "===============================================================================\n",
      "lastupdate_260D: Last update date for the active contracts.\n",
      "===============================================================================\n",
      "maxdebtpduevalodued_3940955A: Days past due at the time of the maximum debt.\n",
      "===============================================================================\n",
      "numberofinstls_810L: Number of instalments for the active contract.\n",
      "===============================================================================\n",
      "overdueamountmax_950A: Maximal past due amount for active contract.\n",
      "===============================================================================\n",
      "overdueamountmaxdatemonth_494T: Month when the maximum past due amount was recorded for an active contract with the credit bureau.\n",
      "===============================================================================\n",
      "overdueamountmaxdateyear_432T: Year when max past due amount occurred for active contract.\n",
      "===============================================================================\n",
      "periodicityofpmts_997L: Frequency of instalments for active credit contracts.\n",
      "===============================================================================\n",
      "periodicityofpmts_997M: Frequency of instalments for active credit contracts.\n",
      "===============================================================================\n",
      "pmtdaysoverdue_1135P: Number of days past due for existing contracts in the credit bureau.\n",
      "===============================================================================\n",
      "pmtmethod_731M: Instalment payment method for existing contract in credit bureau.\n",
      "===============================================================================\n",
      "pmtnumpending_403L: Number of pending payments for active contract.\n",
      "===============================================================================\n",
      "purposeofcred_722M: Purpose of credit for active contracts.\n",
      "===============================================================================\n",
      "residualamount_1093A: Residual amount of closed guarantee contract.\n",
      "===============================================================================\n",
      "residualamount_127A: Residual amount of active guarantee contract.\n",
      "===============================================================================\n",
      "residualamount_3940956A: Residual amount for the active contract.\n",
      "===============================================================================\n",
      "subjectrole_326M: Subject role in active credit contract.\n",
      "===============================================================================\n",
      "subjectrole_43M: Subject role in closed credit contract.\n",
      "===============================================================================\n",
      "totalamount_503A: Total amount of active secured credit for a client.\n",
      "===============================================================================\n",
      "totalamount_881A: Total amount of secured credit from closed contracts.\n",
      "===============================================================================\n",
      "shape: (85_791, 45)\n",
      "┌─────────┬────────────┬───────────┬───────────┬───┬───────────┬───────────┬───────────┬───────────┐\n",
      "│ case_id ┆ amount_111 ┆ classific ┆ contractd ┆ … ┆ subjectro ┆ subjectro ┆ totalamou ┆ totalamou │\n",
      "│ ---     ┆ 5A         ┆ ationofco ┆ ate_551D  ┆   ┆ le_326M   ┆ le_43M    ┆ nt_503A   ┆ nt_881A   │\n",
      "│ i64     ┆ ---        ┆ ntr_1114M ┆ ---       ┆   ┆ ---       ┆ ---       ┆ ---       ┆ ---       │\n",
      "│         ┆ f64        ┆ ---       ┆ str       ┆   ┆ str       ┆ str       ┆ f64       ┆ f64       │\n",
      "│         ┆            ┆ str       ┆           ┆   ┆           ┆           ┆           ┆           │\n",
      "╞═════════╪════════════╪═══════════╪═══════════╪═══╪═══════════╪═══════════╪═══════════╪═══════════╡\n",
      "│ 467     ┆ 78000.0    ┆ ea6782cc  ┆ 2016-10-2 ┆ … ┆ a55475b1  ┆ a55475b1  ┆ null      ┆ null      │\n",
      "│         ┆            ┆           ┆ 5         ┆   ┆           ┆           ┆           ┆           │\n",
      "│ 467     ┆ null       ┆ ea6782cc  ┆ 2011-06-1 ┆ … ┆ fa4f56f1  ┆ ab3c25cf  ┆ 3e6       ┆ 10000.0   │\n",
      "│         ┆            ┆           ┆ 5         ┆   ┆           ┆           ┆           ┆           │\n",
      "│ 467     ┆ null       ┆ ea6782cc  ┆ 2019-01-0 ┆ … ┆ ab3c25cf  ┆ ab3c25cf  ┆ 78000.0   ┆ 960000.0  │\n",
      "│         ┆            ┆           ┆ 4         ┆   ┆           ┆           ┆           ┆           │\n",
      "│ 1445    ┆ 12000.0    ┆ ea6782cc  ┆ 2018-12-3 ┆ … ┆ a55475b1  ┆ a55475b1  ┆ null      ┆ null      │\n",
      "│         ┆            ┆           ┆ 1         ┆   ┆           ┆           ┆           ┆           │\n",
      "│ 1445    ┆ 31400.0    ┆ 01f63ac8  ┆ 2018-07-2 ┆ … ┆ a55475b1  ┆ a55475b1  ┆ null      ┆ null      │\n",
      "│         ┆            ┆           ┆ 5         ┆   ┆           ┆           ┆           ┆           │\n",
      "│ …       ┆ …          ┆ …         ┆ …         ┆ … ┆ …         ┆ …         ┆ …         ┆ …         │\n",
      "│ 2703357 ┆ 731886.06  ┆ 07b11743  ┆ 2018-04-1 ┆ … ┆ ab3c25cf  ┆ ab3c25cf  ┆ 731886.06 ┆ 490729.22 │\n",
      "│         ┆            ┆           ┆ 7         ┆   ┆           ┆           ┆           ┆           │\n",
      "│ 2703357 ┆ null       ┆ ea6782cc  ┆ 2018-11-1 ┆ … ┆ ab3c25cf  ┆ ab3c25cf  ┆ 72000.0   ┆ 68996.0   │\n",
      "│         ┆            ┆           ┆ 7         ┆   ┆           ┆           ┆           ┆           │\n",
      "│ 2703377 ┆ null       ┆ ea6782cc  ┆ 2014-01-0 ┆ … ┆ ab3c25cf  ┆ ab3c25cf  ┆ 0.0       ┆ 205540.0  │\n",
      "│         ┆            ┆           ┆ 4         ┆   ┆           ┆           ┆           ┆           │\n",
      "│ 2703436 ┆ 800000.0   ┆ ea6782cc  ┆ 2017-10-1 ┆ … ┆ ab3c25cf  ┆ ab3c25cf  ┆ 800000.0  ┆ 131932.0  │\n",
      "│         ┆            ┆           ┆ 7         ┆   ┆           ┆           ┆           ┆           │\n",
      "│ 2703436 ┆ null       ┆ ea6782cc  ┆ 2018-05-1 ┆ … ┆ ab3c25cf  ┆ ab3c25cf  ┆ 40000.0   ┆ 0.0       │\n",
      "│         ┆            ┆           ┆ 0         ┆   ┆           ┆           ┆           ┆           │\n",
      "└─────────┴────────────┴───────────┴───────────┴───┴───────────┴───────────┴───────────┴───────────┘\n"
     ]
    }
   ],
   "source": [
    "credit_bureau_b_1_path = TRAIN_DIR / \"train_credit_bureau_b_1.parquet\"\n",
    "credit_bureau_b_1_df = pl.read_parquet(credit_bureau_b_1_path)\n",
    "print_df_and_define_columns(credit_bureau_b_1_df)"
   ]
  },
  {
   "cell_type": "code",
   "execution_count": 87,
   "metadata": {},
   "outputs": [
    {
     "ename": "ComputeError",
     "evalue": "datatypes of join keys don't match - `case_id`: f64 on left does not match `case_id`: i64 on right",
     "output_type": "error",
     "traceback": [
      "\u001b[0;31m---------------------------------------------------------------------------\u001b[0m",
      "\u001b[0;31mComputeError\u001b[0m                              Traceback (most recent call last)",
      "Cell \u001b[0;32mIn[87], line 1\u001b[0m\n\u001b[0;32m----> 1\u001b[0m cb_joined \u001b[39m=\u001b[39m credit_bureau_b_2_df\u001b[39m.\u001b[39;49mjoin(\n\u001b[1;32m      2\u001b[0m     credit_bureau_b_1_df, \n\u001b[1;32m      3\u001b[0m     on\u001b[39m=\u001b[39;49m\u001b[39m\"\u001b[39;49m\u001b[39mcase_id\u001b[39;49m\u001b[39m\"\u001b[39;49m, \n\u001b[1;32m      4\u001b[0m     how\u001b[39m=\u001b[39;49m\u001b[39m\"\u001b[39;49m\u001b[39mleft\u001b[39;49m\u001b[39m\"\u001b[39;49m\n\u001b[1;32m      5\u001b[0m )\u001b[39m.\u001b[39mselect([\n\u001b[1;32m      6\u001b[0m     credit_bureau_b_2_df[\u001b[39m\"\u001b[39m\u001b[39mcase_id\u001b[39m\u001b[39m\"\u001b[39m],\n\u001b[1;32m      7\u001b[0m     credit_bureau_b_2_df[\u001b[39m\"\u001b[39m\u001b[39mpmts_pmtsoverdue_635A\u001b[39m\u001b[39m\"\u001b[39m],\n\u001b[1;32m      8\u001b[0m     credit_bureau_b_2_df[\u001b[39m\"\u001b[39m\u001b[39mother_value\u001b[39m\u001b[39m\"\u001b[39m],\n\u001b[1;32m      9\u001b[0m     credit_bureau_b_2_df[\u001b[39m\"\u001b[39m\u001b[39mpmts_dpdvalue_108P\u001b[39m\u001b[39m\"\u001b[39m],\n\u001b[1;32m     10\u001b[0m     credit_bureau_b_1_df[\u001b[39m\"\u001b[39m\u001b[39mamount_1115A\u001b[39m\u001b[39m\"\u001b[39m]\n\u001b[1;32m     11\u001b[0m ])\n",
      "File \u001b[0;32m~/Desktop/GitHub/stable-credit-risk-modeling/venv/lib/python3.11/site-packages/polars/dataframe/frame.py:6395\u001b[0m, in \u001b[0;36mDataFrame.join\u001b[0;34m(self, other, on, how, left_on, right_on, suffix, validate, join_nulls)\u001b[0m\n\u001b[1;32m   6380\u001b[0m     msg \u001b[39m=\u001b[39m \u001b[39mf\u001b[39m\u001b[39m\"\u001b[39m\u001b[39mexpected `other` join table to be a DataFrame, got \u001b[39m\u001b[39m{\u001b[39;00m\u001b[39mtype\u001b[39m(other)\u001b[39m.\u001b[39m\u001b[39m__name__\u001b[39m\u001b[39m!r}\u001b[39;00m\u001b[39m\"\u001b[39m\n\u001b[1;32m   6381\u001b[0m     \u001b[39mraise\u001b[39;00m \u001b[39mTypeError\u001b[39;00m(msg)\n\u001b[1;32m   6383\u001b[0m \u001b[39mreturn\u001b[39;00m (\n\u001b[1;32m   6384\u001b[0m     \u001b[39mself\u001b[39;49m\u001b[39m.\u001b[39;49mlazy()\n\u001b[1;32m   6385\u001b[0m     \u001b[39m.\u001b[39;49mjoin(\n\u001b[1;32m   6386\u001b[0m         other\u001b[39m=\u001b[39;49mother\u001b[39m.\u001b[39;49mlazy(),\n\u001b[1;32m   6387\u001b[0m         left_on\u001b[39m=\u001b[39;49mleft_on,\n\u001b[1;32m   6388\u001b[0m         right_on\u001b[39m=\u001b[39;49mright_on,\n\u001b[1;32m   6389\u001b[0m         on\u001b[39m=\u001b[39;49mon,\n\u001b[1;32m   6390\u001b[0m         how\u001b[39m=\u001b[39;49mhow,\n\u001b[1;32m   6391\u001b[0m         suffix\u001b[39m=\u001b[39;49msuffix,\n\u001b[1;32m   6392\u001b[0m         validate\u001b[39m=\u001b[39;49mvalidate,\n\u001b[1;32m   6393\u001b[0m         join_nulls\u001b[39m=\u001b[39;49mjoin_nulls,\n\u001b[1;32m   6394\u001b[0m     )\n\u001b[0;32m-> 6395\u001b[0m     \u001b[39m.\u001b[39;49mcollect(_eager\u001b[39m=\u001b[39;49m\u001b[39mTrue\u001b[39;49;00m)\n\u001b[1;32m   6396\u001b[0m )\n",
      "File \u001b[0;32m~/Desktop/GitHub/stable-credit-risk-modeling/venv/lib/python3.11/site-packages/polars/lazyframe/frame.py:1934\u001b[0m, in \u001b[0;36mLazyFrame.collect\u001b[0;34m(self, type_coercion, predicate_pushdown, projection_pushdown, simplify_expression, slice_pushdown, comm_subplan_elim, comm_subexpr_elim, no_optimization, streaming, background, _eager)\u001b[0m\n\u001b[1;32m   1931\u001b[0m \u001b[39mif\u001b[39;00m background:\n\u001b[1;32m   1932\u001b[0m     \u001b[39mreturn\u001b[39;00m InProcessQuery(ldf\u001b[39m.\u001b[39mcollect_concurrently())\n\u001b[0;32m-> 1934\u001b[0m \u001b[39mreturn\u001b[39;00m wrap_df(ldf\u001b[39m.\u001b[39mcollect())\n",
      "\u001b[0;31mComputeError\u001b[0m: datatypes of join keys don't match - `case_id`: f64 on left does not match `case_id`: i64 on right"
     ]
    }
   ],
   "source": [
    "cb_joined = credit_bureau_b_2_df.join(\n",
    "    credit_bureau_b_1_df, \n",
    "    on=\"case_id\", \n",
    "    how=\"left\"\n",
    ").select([\n",
    "    credit_bureau_b_2_df[\"case_id\"],\n",
    "    credit_bureau_b_2_df[\"pmts_pmtsoverdue_635A\"],\n",
    "    credit_bureau_b_2_df[\"other_value\"],\n",
    "    credit_bureau_b_2_df[\"pmts_dpdvalue_108P\"],\n",
    "    credit_bureau_b_1_df[\"amount_1115A\"]\n",
    "])\n"
   ]
  },
  {
   "cell_type": "code",
   "execution_count": null,
   "metadata": {},
   "outputs": [],
   "source": []
  }
 ],
 "metadata": {
  "kernelspec": {
   "display_name": "venv",
   "language": "python",
   "name": "python3"
  },
  "language_info": {
   "codemirror_mode": {
    "name": "ipython",
    "version": 3
   },
   "file_extension": ".py",
   "mimetype": "text/x-python",
   "name": "python",
   "nbconvert_exporter": "python",
   "pygments_lexer": "ipython3",
   "version": "3.11.5"
  },
  "orig_nbformat": 4
 },
 "nbformat": 4,
 "nbformat_minor": 2
}
